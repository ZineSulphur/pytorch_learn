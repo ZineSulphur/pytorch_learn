{
 "cells": [
  {
   "cell_type": "markdown",
   "metadata": {},
   "source": [
    "***\n",
    "## [torch.nn](https://pytorch.org/docs/stable/nn.html)\n",
    "nn是神经网络Neural Network的简写，这个库里集成了pytorch的神经网络相关的算法和模型。\n",
    "***\n",
    "### Containers\n",
    "Containers是pytorch中的神经网络模型的容器。\n",
    "|类|简介|\n",
    "|---|---|\n",
    "|Module|所有神经网络模块的基类|\n",
    "|Sequential|顺序存储容器|\n",
    "|ModuleList|子模块列表|\n",
    "|ModuleDict|子模块字典|\n",
    "|ParameterList|参数列表|\n",
    "|ParameterDict|参数字典|\n",
    "\n",
    "其中Module类最常使用。\n",
    "#### [Module](https://pytorch.org/docs/stable/generated/torch.nn.Module.html#torch.nn.Module)\n",
    "Module是所有神经网络模块的基类，我们的模型都需要继承它，并且重写其中的__init__和forward等方法。"
   ]
  },
  {
   "cell_type": "code",
   "execution_count": 2,
   "metadata": {},
   "outputs": [
    {
     "name": "stdout",
     "output_type": "stream",
     "text": [
      "tensor(2.)\n"
     ]
    }
   ],
   "source": [
    "from torch import nn\n",
    "import torch\n",
    "\n",
    "class MyModule(nn.Module):\n",
    "    def __init__(self):\n",
    "        super().__init__()\n",
    "\n",
    "    def forward(self, input):\n",
    "        output = input + 1\n",
    "        return output\n",
    "\n",
    "md = MyModule()\n",
    "x = torch.tensor(1.)\n",
    "y = md.forward(x)\n",
    "print(y)"
   ]
  },
  {
   "cell_type": "markdown",
   "metadata": {},
   "source": [
    "### Convolution Layers 卷积层\n",
    "Convolution Layers为torch中提供的卷积层模型。\n",
    "|类|简介|\n",
    "|---|---|\n",
    "|nn.Conv1d|对输入进行一维卷积|\n",
    "|nn.Conv2d|对输入进行二维卷积|\n",
    "|nn.Conv3d|对输入进行三维卷积|\n",
    "|nn.ConvTranspose1d|一维转置卷积|\n",
    "|nn.ConvTranspose2d|二维转置卷积|\n",
    "|nn.ConvTranspose3d|三维转置卷积|\n",
    "|nn.LazyConv1d|省略输入参数的Conv1d|\n",
    "|nn.LazyConv2d|省略输入参数的Conv2d|\n",
    "|nn.LazyConv3d|省略输入参数的Conv3d|\n",
    "|nn.LazyConvTranspose1d|省略in_channel的ConvTranspose1d|\n",
    "|nn.LazyConvTranspose2d|省略in_channel的ConvTranspose2d|\n",
    "|nn.LazyConvTranspose3d|省略in_channel的ConvTranspose3d|\n",
    "|nn.Unfold|滑动窗口提取|\n",
    "|nn.Fold|逆滑动窗口提取|\n",
    "\n",
    "其中nn.Conv2d常用于图像识别中。\n",
    "```python\n",
    "torch.nn.Conv1d(in_channels, out_channels, kernel_size, stride=1, padding=0, dilation=1, groups=1, bias=True, padding_mode='zeros', device=None, dtype=None)\n",
    "\n",
    "torch.nn.Conv2d(in_channels, out_channels, kernel_size, stride=1, padding=0, dilation=1, groups=1, bias=True, padding_mode='zeros', device=None, dtype=None)\n",
    "\n",
    "torch.nn.Conv3d(in_channels, out_channels, kernel_size, stride=1, padding=0, dilation=1, groups=1, bias=True, padding_mode='zeros', device=None, dtype=None)\n",
    "\n",
    "torch.nn.ConvTranspose1d(in_channels, out_channels, kernel_size, stride=1, padding=0, output_padding=0, groups=1, bias=True, dilation=1, padding_mode='zeros', device=None, dtype=None)\n",
    "\n",
    "torch.nn.ConvTranspose2d(in_channels, out_channels, kernel_size, stride=1, padding=0, output_padding=0, groups=1, bias=True, dilation=1, padding_mode='zeros', device=None, dtype=None)\n",
    "\n",
    "torch.nn.ConvTranspose3d(in_channels, out_channels, kernel_size, stride=1, padding=0, output_padding=0, groups=1, bias=True, dilation=1, padding_mode='zeros', device=None, dtype=None)\n",
    "```\n",
    "**Parameters**\n",
    "* in_channels   - 输入通道数\n",
    "* out_channels  - 卷积产生的通道数\n",
    "* kernel_size   - 卷积核大小，int或者tuple\n",
    "* stride        - 卷积步长，可选int或者tuple\n",
    "* padding       - 填充数目，可选int或者tuple\n",
    "* padding_mode  - 填充模式，可选'zeros', 'reflect', 'replicate' or 'circular'\n",
    "* dilation      - 卷积核点间隔，可选int或者tuple\n",
    "* groups        - 控制分组卷积\n",
    "* bias          - 控制是否有偏差参数，bool\n",
    "\n",
    "#### [卷积层参数演示动画](https://github.com/vdumoulin/conv_arithmetic)\n",
    "#### [卷积原理讲解推荐](https://www.bilibili.com/video/BV1Vd4y1e7pj/)\n"
   ]
  },
  {
   "cell_type": "code",
   "execution_count": 1,
   "metadata": {},
   "outputs": [
    {
     "name": "stdout",
     "output_type": "stream",
     "text": [
      "Files already downloaded and verified\n",
      "torch.Size([64, 3, 32, 32])\n",
      "torch.Size([64, 6, 30, 30])\n"
     ]
    }
   ],
   "source": [
    "import torch\n",
    "import torchvision\n",
    "import torch.nn as nn\n",
    "from torch.utils.data import DataLoader\n",
    "from torch.utils.tensorboard import SummaryWriter\n",
    "\n",
    "dataset = torchvision.datasets.CIFAR10(\"./data\", train=False, transform=torchvision.transforms.ToTensor(), download=True)\n",
    "dataloader = DataLoader(dataset, batch_size=64)\n",
    "\n",
    "class MyConv(nn.Module):\n",
    "    def __init__(self):\n",
    "        super(MyConv, self).__init__()\n",
    "        self.conv1 = nn.Conv2d(in_channels=3, out_channels=3, kernel_size=3)\n",
    "\n",
    "    def forward(self, x):\n",
    "        x = self.conv1(x)\n",
    "        return x\n",
    "\n",
    "myConv = MyConv()\n",
    "writer = SummaryWriter(\"./logs\")\n",
    "step = 0\n",
    "for data in dataloader:\n",
    "    img, target = data\n",
    "    output = myConv(img)\n",
    "    if(step == 0):\n",
    "        print(img.shape)\n",
    "        print(output.shape)\n",
    "    writer.add_images(\"input\", img, step)\n",
    "    writer.add_images(\"output\", output, step)\n",
    "    step += 1\n"
   ]
  }
 ],
 "metadata": {
  "kernelspec": {
   "display_name": "pytorch",
   "language": "python",
   "name": "python3"
  },
  "language_info": {
   "codemirror_mode": {
    "name": "ipython",
    "version": 3
   },
   "file_extension": ".py",
   "mimetype": "text/x-python",
   "name": "python",
   "nbconvert_exporter": "python",
   "pygments_lexer": "ipython3",
   "version": "3.8.19"
  }
 },
 "nbformat": 4,
 "nbformat_minor": 2
}
