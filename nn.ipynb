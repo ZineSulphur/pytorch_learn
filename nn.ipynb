{
 "cells": [
  {
   "cell_type": "markdown",
   "metadata": {},
   "source": [
    "## [torch.nn](https://pytorch.org/docs/stable/nn.html)\n",
    "nn是神经网络Neural Network的简写，这个库里集成了pytorch的神经网络相关的算法和模型。\n",
    "***\n",
    "### Containers\n",
    "Containers是pytorch中的神经网络模型的容器。\n",
    "|类|简介|\n",
    "|---|---|\n",
    "|Module|所有神经网络模块的基类|\n",
    "|Sequential|顺序存储容器|\n",
    "|ModuleList|子模块列表|\n",
    "|ModuleDict|子模块字典|\n",
    "|ParameterList|参数列表|\n",
    "|ParameterDict|参数字典|\n",
    "其中Module类最常使用。\n",
    "#### [Module](https://pytorch.org/docs/stable/generated/torch.nn.Module.html#torch.nn.Module)\n",
    "Module是所有神经网络模块的基类，我们的模型都需要继承它。"
   ]
  }
 ],
 "metadata": {
  "kernelspec": {
   "display_name": "pytorch",
   "language": "python",
   "name": "python3"
  },
  "language_info": {
   "name": "python",
   "version": "3.8.19"
  }
 },
 "nbformat": 4,
 "nbformat_minor": 2
}
