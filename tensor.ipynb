{
 "cells": [
  {
   "cell_type": "markdown",
   "metadata": {},
   "source": [
    "***\n",
    "## [Tensor](https://pytorch.org/docs/stable/tensors.html)\n",
    "\n",
    "A torch.Tensor is a multi-dimensional matrix containing elements of a single data type.\n",
    "\n",
    "Tensor就是张量，一种容纳数据的多维容器，和多维数组类似，主要用于存储用于训练等方面的数据。\n",
    "\n",
    "***"
   ]
  },
  {
   "cell_type": "markdown",
   "metadata": {},
   "source": [
    "## [Tensor构造函数](https://pytorch.org/docs/stable/generated/torch.tensor.html#torch.tensor)\n",
    "```python\n",
    "torch.tensor(data, *, dtype=None, device=None, requires_grad=False, pin_memory=False) → Tensor\n",
    "```\n",
    "Constructs a tensor with no autograd history (also known as a “leaf tensor”) by copying data.\n",
    "\n",
    "通过复制数据的方式构建一个张量。\n",
    "\n",
    "**Parameters**\n",
    "* **data**(array_like) - 为tensor初始化的数据，可以是list, tuple, NumPy ndarry, scalar等类型。\n",
    "* **dtype**            - 可选参数，为[torch.dtype](https://pytorch.org/docs/stable/tensor_attributes.html#torch.dtype)中的类型，tensor的数据类型，如果为None则以参数data中的数据类型为准。\n",
    "* **device**           - 可选参数，为[torch.device](https://pytorch.org/docs/stable/tensor_attributes.html#torch.device)中的类型，tensor的运行设备，一般为\"cpu\"或者\"cuda\",如果为None时以参数data中指定的数据为准，若data无指定则为当前设备。\n",
    "* **requires_grad**    - 可选参数，bool类型，为True时告诉这个tensor需要进行求导求梯度grad操作。\n",
    "* **pin_memory**       - 可选参数，bool类型，为True时说明tensor会放入固定内存中，只对cpu tensor生效。"
   ]
  },
  {
   "cell_type": "code",
   "execution_count": 18,
   "metadata": {},
   "outputs": [
    {
     "name": "stdout",
     "output_type": "stream",
     "text": [
      "零阶张量\n",
      "tensor(123)\n",
      "-----------------------\n",
      "一阶张量\n",
      "tensor([123, 234, 567])\n",
      "tensor(234)\n",
      "-----------------------\n",
      "二阶张量\n",
      "tensor([[123, 234, 345],\n",
      "        [456, 567, 678],\n",
      "        [789, 890, 901]])\n",
      "tensor([456, 567, 678])\n",
      "tensor(678)\n",
      "-----------------------\n",
      "指定类型和设备\n",
      "tensor([[0.1111, 0.2222, 0.3333]], device='cuda:0', dtype=torch.float64)\n",
      "-----------------------\n",
      "numpy\n",
      "tensor([[1, 2, 3],\n",
      "        [4, 5, 6]], dtype=torch.int32)\n",
      "-----------------------\n",
      "初始化全0tensor\n",
      "tensor([[0., 0., 0., 0.],\n",
      "        [0., 0., 0., 0.]])\n",
      "-----------------------\n",
      "初始化全1tensor\n",
      "tensor([[1, 1, 1, 1],\n",
      "        [1, 1, 1, 1]], dtype=torch.int32)\n"
     ]
    }
   ],
   "source": [
    "import torch\n",
    "import numpy as np\n",
    "\n",
    "# 零阶张量 -> 常量\n",
    "tensor0d = torch.tensor(123)\n",
    "print(\"零阶张量\")\n",
    "print(tensor0d)\n",
    "print(\"-----------------------\")\n",
    "\n",
    "# 一阶张量 -> 向量 -> 一维数组\n",
    "tensor1d = torch.tensor([123, 234, 567])\n",
    "print(\"一阶张量\")\n",
    "print(tensor1d)\n",
    "# tensor[idx] 类似数组的读数据方法\n",
    "print(tensor1d[1])\n",
    "print(\"-----------------------\")\n",
    "\n",
    "# 二阶张量 -> 矩阵 -> 二维数组\n",
    "tensor2d = torch.tensor([[123, 234, 345],\n",
    "                         [456, 567, 678],\n",
    "                         [789, 890, 901]])\n",
    "print(\"二阶张量\")\n",
    "print(tensor2d)\n",
    "print(tensor2d[1])\n",
    "print(tensor2d[1][2])\n",
    "print(\"-----------------------\")\n",
    "\n",
    "# 指定dtype和device\n",
    "print(\"指定类型和设备\")\n",
    "tensor1 = torch.tensor([[0.11111, 0.222222, 0.3333333]],\n",
    "                        dtype=torch.float64,\n",
    "                        device=torch.device('cuda:0'))\n",
    "print(tensor1)\n",
    "print(\"-----------------------\")\n",
    "\n",
    "# np.array\n",
    "tensor2 = torch.tensor(np.array([[1, 2, 3], [4, 5, 6]]))\n",
    "print(\"numpy\")\n",
    "print(tensor2)\n",
    "print(\"-----------------------\")\n",
    "\n",
    "# 初始化全0tensor\n",
    "tensor_all0 = torch.zeros([2,4])\n",
    "print(\"初始化全0tensor\")\n",
    "print(tensor_all0)\n",
    "print(\"-----------------------\")\n",
    "\n",
    "# 初始化全1tensor\n",
    "tensor_all1 = torch.ones([2,4], dtype=torch.int32)\n",
    "print(\"初始化全1tensor\")\n",
    "print(tensor_all1)"
   ]
  },
  {
   "cell_type": "markdown",
   "metadata": {},
   "source": [
    "***\n",
    "## [Tensor属性](https://pytorch.org/docs/stable/tensor_attributes.html)\n",
    "每个tensor都有torch.dtype, torch.device, torch.layout三个属性。\n"
   ]
  }
 ],
 "metadata": {
  "kernelspec": {
   "display_name": "pytorch",
   "language": "python",
   "name": "python3"
  },
  "language_info": {
   "codemirror_mode": {
    "name": "ipython",
    "version": 3
   },
   "file_extension": ".py",
   "mimetype": "text/x-python",
   "name": "python",
   "nbconvert_exporter": "python",
   "pygments_lexer": "ipython3",
   "version": "3.8.19"
  }
 },
 "nbformat": 4,
 "nbformat_minor": 2
}
